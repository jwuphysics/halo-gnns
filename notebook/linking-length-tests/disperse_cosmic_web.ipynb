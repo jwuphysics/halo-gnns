{
 "cells": [
  {
   "cell_type": "code",
   "execution_count": 1,
   "metadata": {},
   "outputs": [],
   "source": [
    "import h5py\n",
    "from tqdm.notebook import tqdm\n",
    "import scipy\n",
    "import torch\n",
    "from torch_geometric.data import Data\n",
    "import os\n",
    "\n",
    "import numpy as np\n",
    "import pandas as pd\n",
    "from pathlib import Path\n",
    "import pickle\n",
    "import matplotlib.pyplot as plt\n",
    "import illustris_python as il\n",
    "\n",
    "from sklearn.ensemble import RandomForestRegressor\n",
    "from sklearn.inspection import permutation_importance\n",
    "\n",
    "ROOT = Path(\"..\").resolve().parent\n",
    "tng_base_path = f\"{ROOT}/illustris_data/TNG300-1/output\"\n",
    "\n",
    "c0, c1, c2, c3, c4 = '#003f5c', '#58508d', '#bc5090', '#ff6361', '#ffa600'\n",
    "\n"
   ]
  },
  {
   "cell_type": "code",
   "execution_count": 2,
   "metadata": {},
   "outputs": [],
   "source": [
    "snapshot=99\n",
    "r_link=5\n",
    "pad=2.5\n",
    "split=6\n",
    "use_gal=False\n",
    "h=0.6774\n",
    "undirected=True \n",
    "periodic=False \n",
    "use_loops=True\n",
    "in_projection=False\n",
    "train_test_frac_split = split**2\n",
    "\n",
    "cuts = {\n",
    "    \"minimum_log_stellar_mass\": 9,\n",
    "    \"minimum_log_halo_mass\": 10,\n",
    "    \"minimum_n_star_particles\": 50\n",
    "}\n",
    "\n",
    "config_params = dict(\n",
    "    boxsize=51.7e3,    # box size in comoving kpc/h\n",
    "    h_reduced=0.704,   # reduced Hubble constant\n",
    "    snapshot=99,       # z = 0\n",
    ")\n",
    "\n",
    "normalization_params = dict(\n",
    "    minimum_n_star_particles=10., # min star particles to be considered a galaxy\n",
    "    norm_half_mass_radius=8., \n",
    "    norm_velocity=100., # note: use value of 1 if `use_central_galaxy_frame=True`\n",
    ")"
   ]
  },
  {
   "cell_type": "markdown",
   "metadata": {},
   "source": [
    "# Get cosmic web params"
   ]
  },
  {
   "cell_type": "code",
   "execution_count": 2,
   "metadata": {},
   "outputs": [
    {
     "data": {
      "text/plain": [
       "<KeysViewHDF5 ['d_minima', 'd_node', 'd_saddle_1', 'd_saddle_2', 'd_skel', 'subhalo_ID']>"
      ]
     },
     "execution_count": 2,
     "metadata": {},
     "output_type": "execute_result"
    }
   ],
   "source": [
    "cw = h5py.File(f\"{ROOT}/illustris_data/TNG300-1/postprocessing/disperse/disperse_099.hdf5\")\n",
    "cw.keys()"
   ]
  },
  {
   "cell_type": "code",
   "execution_count": 3,
   "metadata": {},
   "outputs": [
    {
     "data": {
      "text/html": [
       "<div>\n",
       "<style scoped>\n",
       "    .dataframe tbody tr th:only-of-type {\n",
       "        vertical-align: middle;\n",
       "    }\n",
       "\n",
       "    .dataframe tbody tr th {\n",
       "        vertical-align: top;\n",
       "    }\n",
       "\n",
       "    .dataframe thead th {\n",
       "        text-align: right;\n",
       "    }\n",
       "</style>\n",
       "<table border=\"1\" class=\"dataframe\">\n",
       "  <thead>\n",
       "    <tr style=\"text-align: right;\">\n",
       "      <th></th>\n",
       "      <th>d_minima</th>\n",
       "      <th>d_node</th>\n",
       "      <th>d_saddle_1</th>\n",
       "      <th>d_saddle_2</th>\n",
       "      <th>d_skel</th>\n",
       "    </tr>\n",
       "    <tr>\n",
       "      <th>subhalo_id</th>\n",
       "      <th></th>\n",
       "      <th></th>\n",
       "      <th></th>\n",
       "      <th></th>\n",
       "      <th></th>\n",
       "    </tr>\n",
       "  </thead>\n",
       "  <tbody>\n",
       "    <tr>\n",
       "      <th>0</th>\n",
       "      <td>-0.405779</td>\n",
       "      <td>-1.471773</td>\n",
       "      <td>-1.259529</td>\n",
       "      <td>-1.104576</td>\n",
       "      <td>-1.163798</td>\n",
       "    </tr>\n",
       "    <tr>\n",
       "      <th>1</th>\n",
       "      <td>-0.671898</td>\n",
       "      <td>-1.505375</td>\n",
       "      <td>-0.801792</td>\n",
       "      <td>-0.777483</td>\n",
       "      <td>-1.195676</td>\n",
       "    </tr>\n",
       "    <tr>\n",
       "      <th>2</th>\n",
       "      <td>-0.488557</td>\n",
       "      <td>-1.194772</td>\n",
       "      <td>-1.493097</td>\n",
       "      <td>-1.245941</td>\n",
       "      <td>-1.161969</td>\n",
       "    </tr>\n",
       "    <tr>\n",
       "      <th>3</th>\n",
       "      <td>-0.488640</td>\n",
       "      <td>-0.783244</td>\n",
       "      <td>-1.150201</td>\n",
       "      <td>-1.423575</td>\n",
       "      <td>-1.180119</td>\n",
       "    </tr>\n",
       "    <tr>\n",
       "      <th>4</th>\n",
       "      <td>-0.490822</td>\n",
       "      <td>-1.132100</td>\n",
       "      <td>-1.446336</td>\n",
       "      <td>-1.392441</td>\n",
       "      <td>-1.150521</td>\n",
       "    </tr>\n",
       "  </tbody>\n",
       "</table>\n",
       "</div>"
      ],
      "text/plain": [
       "            d_minima    d_node  d_saddle_1  d_saddle_2    d_skel\n",
       "subhalo_id                                                      \n",
       "0          -0.405779 -1.471773   -1.259529   -1.104576 -1.163798\n",
       "1          -0.671898 -1.505375   -0.801792   -0.777483 -1.195676\n",
       "2          -0.488557 -1.194772   -1.493097   -1.245941 -1.161969\n",
       "3          -0.488640 -0.783244   -1.150201   -1.423575 -1.180119\n",
       "4          -0.490822 -1.132100   -1.446336   -1.392441 -1.150521"
      ]
     },
     "execution_count": 3,
     "metadata": {},
     "output_type": "execute_result"
    }
   ],
   "source": [
    "cw = pd.DataFrame(\n",
    "    {k: cw[k] for k in cw.keys()}\n",
    ").rename({\"subhalo_ID\": \"subhalo_id\"}, axis=1).set_index(\"subhalo_id\")\n",
    "\n",
    "# normalize\n",
    "cw = (cw - cw.mean(0)) / cw.std(0)\n",
    "\n",
    "cw.head()"
   ]
  },
  {
   "cell_type": "markdown",
   "metadata": {},
   "source": [
    "# Make PyG dataset"
   ]
  },
  {
   "cell_type": "code",
   "execution_count": 6,
   "metadata": {},
   "outputs": [
    {
     "name": "stderr",
     "output_type": "stream",
     "text": [
      "/home/john/miniconda3/envs/pyg/lib/python3.10/site-packages/pandas/core/arraylike.py:402: RuntimeWarning: divide by zero encountered in log10\n",
      "  result = getattr(ufunc, method)(*inputs, **kwargs)\n"
     ]
    }
   ],
   "source": [
    "use_cols = ['subhalo_x', 'subhalo_y', 'subhalo_z', 'subhalo_vx', 'subhalo_vy', 'subhalo_vz', 'subhalo_loghalomass', 'subhalo_logvmax'] \n",
    "y_cols = ['subhalo_logstellarmass']\n",
    "\n",
    "subhalo_fields = [\n",
    "    \"SubhaloPos\", \"SubhaloMassType\", \"SubhaloLenType\", \"SubhaloHalfmassRadType\", \n",
    "    \"SubhaloVel\", \"SubhaloVmax\", \"SubhaloGrNr\", \"SubhaloFlag\"\n",
    "]\n",
    "subhalos = il.groupcat.loadSubhalos(tng_base_path, snapshot, fields=subhalo_fields) \n",
    "\n",
    "pos = subhalos[\"SubhaloPos\"][:,:3]\n",
    "min_box, max_box = np.rint(np.min(pos)), np.rint(np.max(pos))\n",
    "box_size = max_box/(h*1e3) # in Mpc\n",
    "\n",
    "halo_fields = [\"Group_M_Crit200\", \"GroupFirstSub\", \"GroupPos\", \"GroupVel\"]\n",
    "halos = il.groupcat.loadHalos(tng_base_path, snapshot, fields=halo_fields)\n",
    "\n",
    "subhalo_pos = subhalos[\"SubhaloPos\"][:] / (h*1e3)\n",
    "subhalo_stellarmass = subhalos[\"SubhaloMassType\"][:,4]\n",
    "subhalo_halomass = subhalos[\"SubhaloMassType\"][:,1]\n",
    "subhalo_n_stellar_particles = subhalos[\"SubhaloLenType\"][:,4]\n",
    "subhalo_stellarhalfmassradius = subhalos[\"SubhaloHalfmassRadType\"][:,4]  / normalization_params[\"norm_half_mass_radius\"]\n",
    "subhalo_vel = subhalos[\"SubhaloVel\"][:] /  normalization_params[\"norm_velocity\"]\n",
    "subhalo_vmax = subhalos[\"SubhaloVmax\"][:] / normalization_params[\"norm_velocity\"]\n",
    "subhalo_flag = subhalos[\"SubhaloFlag\"][:]\n",
    "halo_id = subhalos[\"SubhaloGrNr\"][:].astype(int)\n",
    "\n",
    "halo_mass = halos[\"Group_M_Crit200\"][:]\n",
    "halo_primarysubhalo = halos[\"GroupFirstSub\"][:].astype(int)\n",
    "group_pos = halos[\"GroupPos\"][:] / (h*1e3)\n",
    "group_vel = halos[\"GroupVel\"][:]  / normalization_params[\"norm_velocity\"]\n",
    "\n",
    "halos = pd.DataFrame(\n",
    "    np.column_stack((np.arange(len(halo_mass)), group_pos, group_vel, halo_mass, halo_primarysubhalo)),\n",
    "    columns=['halo_id', 'halo_x', 'halo_y', 'halo_z', 'halo_vx', 'halo_vy', 'halo_vz', 'halo_mass', 'halo_primarysubhalo']\n",
    ")\n",
    "halos['halo_id'] = halos['halo_id'].astype(int)\n",
    "halos.set_index(\"halo_id\", inplace=True)\n",
    "\n",
    "# get subhalos/galaxies      \n",
    "subhalos = pd.DataFrame(\n",
    "    np.column_stack([halo_id, subhalo_flag, np.arange(len(subhalo_stellarmass)), subhalo_pos, subhalo_vel, subhalo_n_stellar_particles, subhalo_stellarmass, subhalo_halomass, subhalo_stellarhalfmassradius, subhalo_vmax]), \n",
    "    columns=['halo_id', 'subhalo_flag', 'subhalo_id', 'subhalo_x', 'subhalo_y', 'subhalo_z', 'subhalo_vx', 'subhalo_vy', 'subhalo_vz', 'subhalo_n_stellar_particles', 'subhalo_stellarmass', 'subhalo_halomass', 'subhalo_stellarhalfmassradius', 'subhalo_vmax'],\n",
    ")\n",
    "subhalos[\"is_central\"] = (halos.loc[subhalos.halo_id][\"halo_primarysubhalo\"].values == subhalos[\"subhalo_id\"].values)\n",
    "\n",
    "subhalos = subhalos[subhalos[\"subhalo_flag\"] != 0].copy()\n",
    "subhalos['halo_id'] = subhalos['halo_id'].astype(int)\n",
    "subhalos['subhalo_id'] = subhalos['subhalo_id'].astype(int)\n",
    "\n",
    "subhalos.drop(\"subhalo_flag\", axis=1, inplace=True)\n",
    "\n",
    "# impose stellar mass and particle cuts\n",
    "subhalos = subhalos[subhalos[\"subhalo_n_stellar_particles\"] > cuts[\"minimum_n_star_particles\"]].copy()\n",
    "subhalos[\"subhalo_logstellarmass\"] = np.log10(subhalos[\"subhalo_stellarmass\"] / h)+10\n",
    "\n",
    "subhalos[\"subhalo_loghalomass\"] = np.log10(subhalos[\"subhalo_halomass\"] / h)+10\n",
    "subhalos[\"subhalo_logvmax\"] = np.log10(subhalos[\"subhalo_vmax\"])\n",
    "subhalos[\"subhalo_logstellarhalfmassradius\"] = np.log10(subhalos[\"subhalo_stellarhalfmassradius\"])\n",
    "\n",
    "subhalos = subhalos[subhalos[\"subhalo_loghalomass\"] > cuts[\"minimum_log_halo_mass\"]].copy()\n",
    "\n",
    "subhalos = subhalos[subhalos[\"subhalo_logstellarmass\"] > cuts[\"minimum_log_stellar_mass\"]].copy()\n"
   ]
  },
  {
   "cell_type": "code",
   "execution_count": 7,
   "metadata": {},
   "outputs": [],
   "source": [
    "subhalos = subhalos.join(cw, on=\"subhalo_id\", how=\"left\")"
   ]
  },
  {
   "cell_type": "code",
   "execution_count": null,
   "metadata": {},
   "outputs": [],
   "source": [
    "data_path = f\"{ROOT}/illustris_data/TNG300-1/postprocessing/pyg_data_disperse.h5\"\n",
    "data = []\n",
    "for n in tqdm(range(split), position=0):\n",
    "    for g in tqdm(range(split), position=1, leave=False):\n",
    "        for k in tqdm(range(split), position=2, leave=False):\n",
    "            # print(n,g,k)\n",
    "            xlims = np.array([box_size/split*n+pad, box_size/split*(n+1)-pad])\n",
    "            ylims = np.array([box_size/split*g+pad, box_size/split*(g+1)-pad])\n",
    "            zlims = np.array([box_size/split*k+pad, box_size/split*(k+1)-pad])\n",
    "\n",
    "            pos = np.vstack(subhalos[['subhalo_x', 'subhalo_y', 'subhalo_z']].to_numpy())\n",
    "\n",
    "            xmask = np.logical_and(pos[:,0]>xlims[0],pos[:,0]<xlims[1])\n",
    "            ymask = np.logical_and(pos[:,1]>ylims[0],pos[:,1]<ylims[1])\n",
    "            zmask = np.logical_and(pos[:,2]>zlims[0],pos[:,2]<zlims[1])\n",
    "            mask = np.logical_and(zmask, np.logical_and(xmask, ymask))\n",
    "\n",
    "            df = subhalos.iloc[mask].copy()\n",
    "            df.reset_index(drop=True)\n",
    "\n",
    "            # remove extraneous columns\n",
    "            df.drop([\"subhalo_n_stellar_particles\", \"subhalo_stellarmass\", \"subhalo_halomass\"], axis=1, inplace=True)\n",
    "\n",
    "            # set new zero point\n",
    "\n",
    "            df[['subhalo_x', 'subhalo_y', 'subhalo_z']] = df[['subhalo_x', 'subhalo_y', 'subhalo_z']] - np.array([box_size/split*n+pad, box_size/split*g+pad, box_size/split*k+pad])\n",
    "\n",
    "            #make positions for clustering\n",
    "\n",
    "            if in_projection:\n",
    "                pos = np.vstack(df[['subhalo_x', 'subhalo_y']].to_numpy())    \n",
    "            else:\n",
    "                pos = np.vstack(df[['subhalo_x', 'subhalo_y', 'subhalo_z']].to_numpy())\n",
    "\n",
    "            kd_tree = scipy.spatial.KDTree(pos, leafsize=25, boxsize=box_size)\n",
    "            edge_index = kd_tree.query_pairs(r=r_link, output_type=\"ndarray\")\n",
    "\n",
    "            # normalize positions\n",
    "\n",
    "            df[['subhalo_x', 'subhalo_y', 'subhalo_z']] = df[['subhalo_x', 'subhalo_y', 'subhalo_z']]/(box_size/2)\n",
    "\n",
    "            if undirected:\n",
    "            # Add reverse pairs\n",
    "                reversepairs = np.zeros((edge_index.shape[0],2))\n",
    "                for i, pair in enumerate(edge_index):\n",
    "                    reversepairs[i] = np.array([pair[1], pair[0]])\n",
    "                edge_index = np.append(edge_index, reversepairs, 0)\n",
    "\n",
    "                edge_index = edge_index.astype(int)\n",
    "\n",
    "                # Write in pytorch-geometric format\n",
    "                edge_index = edge_index.reshape((2,-1))\n",
    "                num_pairs = edge_index.shape[1]\n",
    "\n",
    "            row, col = edge_index\n",
    "\n",
    "            diff = pos[row]-pos[col]\n",
    "            dist = np.linalg.norm(diff, axis=1)\n",
    "\n",
    "            use_gal = True\n",
    "\n",
    "            if periodic:\n",
    "                # Take into account periodic boundary conditions, correcting the distances\n",
    "                for i, pos_i in enumerate(diff):\n",
    "                    for j, coord in enumerate(pos_i):\n",
    "                        if coord > r_link:\n",
    "                            diff[i,j] -= box_size  # Boxsize normalize to 1\n",
    "                        elif -coord > r_link:\n",
    "                            diff[i,j] += box_size  # Boxsize normalize to 1\n",
    "\n",
    "            centroid = np.mean(pos,axis=0) # define arbitrary coordinate, invarinat to translation/rotation shifts, but not stretches\n",
    "            # centroid+=1.2\n",
    "\n",
    "            unitrow = (pos[row]-centroid)/np.linalg.norm((pos[row]-centroid), axis=1).reshape(-1,1)\n",
    "            unitcol = (pos[col]-centroid)/np.linalg.norm((pos[col]-centroid), axis=1).reshape(-1,1)\n",
    "            unitdiff = diff/dist.reshape(-1,1)\n",
    "            # Dot products between unit vectors\n",
    "            cos1 = np.array([np.dot(unitrow[i,:].T,unitcol[i,:]) for i in range(num_pairs)])\n",
    "            cos2 = np.array([np.dot(unitrow[i,:].T,unitdiff[i,:]) for i in range(num_pairs)])\n",
    "\n",
    "            edge_attr = np.concatenate([dist.reshape(-1,1), cos1.reshape(-1,1), cos2.reshape(-1,1)], axis=1)\n",
    "\n",
    "            if use_loops:\n",
    "                loops = np.zeros((2,pos.shape[0]),dtype=int)\n",
    "                atrloops = np.zeros((pos.shape[0], edge_attr.shape[1]))\n",
    "                for i, posit in enumerate(pos):\n",
    "                    loops[0,i], loops[1,i] = i, i\n",
    "                    atrloops[i,0], atrloops[i,1], atrloops[i,2] = 0., 1., 0.\n",
    "                edge_index = np.append(edge_index, loops, 1)\n",
    "                edge_attr = np.append(edge_attr, atrloops, 0)\n",
    "            edge_index = edge_index.astype(int)\n",
    "\n",
    "            x = torch.tensor(np.vstack(df[use_cols].to_numpy()), dtype=torch.float)\n",
    "            y = torch.tensor(np.vstack(df[y_cols].to_numpy()), dtype=torch.float)\n",
    "            edge_index = torch.tensor(edge_index, dtype=torch.long)\n",
    "            edge_attr=torch.tensor(edge_attr, dtype=torch.float)\n",
    "            pos = torch.tensor(pos, dtype=torch.float)\n",
    "            is_central = torch.tensor(df.is_central.values, dtype=bool)\n",
    "            overdensity = torch.zeros(len(x), dtype=x.dtype)\n",
    "            for i in range(len(x)):\n",
    "                neighbors = edge_index[1, edge_index[0] == i] # get neighbor indices\n",
    "                overdensity[i] = torch.log10((10**x[neighbors, -2]).sum()) # get sum of masses of neighbors (2nd to last index in `x`)\n",
    "\n",
    "            cosmic_web = torch.tensor(np.vstack(df[[\"d_minima\", \"d_node\", \"d_saddle_1\", \"d_saddle_2\", \"d_skel\"]].to_numpy()), dtype=torch.float)\n",
    "\n",
    "            data.append(Data(x=x, y=y, pos=pos, is_central=is_central, edge_index=edge_index, edge_attr=edge_attr, overdensity=overdensity, cosmic_web=cosmic_web))\n",
    "\n",
    "            proj_str = \"-projected\" if in_projection else \"\"\n",
    "\n",
    "            if not os.path.isdir(os.path.join(tng_base_path, 'cosmic_graphs')):\n",
    "                os.mkdir(os.path.join(tng_base_path, 'cosmic_graphs'))\n",
    "\n",
    "            with open(data_path, 'wb') as handle:\n",
    "                pickle.dump(data, handle)"
   ]
  },
  {
   "cell_type": "markdown",
   "metadata": {},
   "source": [
    "# Train random forest"
   ]
  },
  {
   "cell_type": "code",
   "execution_count": 3,
   "metadata": {},
   "outputs": [],
   "source": [
    "data_path = f\"{ROOT}/illustris_data/TNG300-1/postprocessing/pyg_data_disperse.h5\"\n",
    "data = pickle.load(open(data_path, 'rb'))"
   ]
  },
  {
   "cell_type": "code",
   "execution_count": 21,
   "metadata": {},
   "outputs": [
    {
     "data": {
      "text/plain": [
       "(13.79554, 15.708325)"
      ]
     },
     "execution_count": 21,
     "metadata": {},
     "output_type": "execute_result"
    }
   ],
   "source": [
    "all_masses = np.log10(list(sum(10**d.x[:,-2]) for d in data))\n",
    "\n",
    "min(all_masses), max(all_masses)"
   ]
  },
  {
   "cell_type": "code",
   "execution_count": 4,
   "metadata": {},
   "outputs": [],
   "source": [
    "def train_validate_disperse(data, k, split=6):\n",
    "    \"\"\"Here data should just be subhalo catalog joined with disperse catalog\"\"\"\n",
    "    \n",
    "    data_train = data[:k*train_test_frac_split] + data[(k+1)*train_test_frac_split:]\n",
    "    data_valid = data[k*train_test_frac_split:(k+1)*train_test_frac_split]\n",
    "\n",
    "    X_train_disperse = np.concatenate([torch.hstack([d.x[:, -2:], d.cosmic_web[:, :]]) for d in data_train], 0)\n",
    "    y_train = np.concatenate([d.y[:, 0] for d in data_train])\n",
    "    X_valid_disperse = np.concatenate([torch.hstack([d.x[:, -2:], d.cosmic_web[:, :]]) for d in data_valid], 0)\n",
    "    y_valid = np.concatenate([d.y[:, 0] for d in data_valid])\n",
    "\n",
    "    rf_disperse = RandomForestRegressor()\n",
    "    rf_disperse.fit(X_train_disperse, y_train)\n",
    "\n",
    "    p_log_Mhalo_rf_disperse = rf_disperse.predict(X_valid_disperse)\n",
    "\n",
    "    return pd.DataFrame({\n",
    "        \"p_RF_disperse\": p_log_Mhalo_rf_disperse, \n",
    "        \"log_Mstar\": y_valid,\n",
    "    })"
   ]
  },
  {
   "cell_type": "code",
   "execution_count": 44,
   "metadata": {},
   "outputs": [],
   "source": [
    "# for k in range(6):\n",
    "#     df_disperse_k = train_validate_disperse(data, k)\n",
    "#     df_disperse_k.to_csv(f\"{ROOT}/results/predicting-Mstar/cosmic_web_disperse/validation-fold{k+1}.csv\", index=False)"
   ]
  },
  {
   "cell_type": "markdown",
   "metadata": {},
   "source": [
    "# Check feature importances"
   ]
  },
  {
   "cell_type": "code",
   "execution_count": 4,
   "metadata": {},
   "outputs": [],
   "source": [
    "k = 4\n",
    "split = 6\n",
    "\n",
    "data_train = data[:k*train_test_frac_split] + data[(k+1)*train_test_frac_split:]\n",
    "data_valid = data[k*train_test_frac_split:(k+1)*train_test_frac_split]\n",
    "\n",
    "X_train_disperse = np.concatenate([torch.hstack([d.x[:, -2:], d.cosmic_web[:, :]]) for d in data_train], 0)\n",
    "y_train = np.concatenate([d.y[:, 0] for d in data_train])\n",
    "X_valid_disperse = np.concatenate([torch.hstack([d.x[:, -2:], d.cosmic_web[:, :]]) for d in data_valid], 0)\n",
    "y_valid = np.concatenate([d.y[:, 0] for d in data_valid])\n",
    "\n",
    "rf_disperse = RandomForestRegressor()\n",
    "rf_disperse.fit(X_train_disperse, y_train)\n",
    "\n",
    "p_log_Mhalo_rf_disperse = rf_disperse.predict(X_valid_disperse)"
   ]
  },
  {
   "cell_type": "code",
   "execution_count": 5,
   "metadata": {},
   "outputs": [],
   "source": [
    "result = permutation_importance(\n",
    "    rf_disperse, \n",
    "    X_valid_disperse, \n",
    "    y_valid, \n",
    "    n_repeats=30, \n",
    "    random_state=42, \n",
    "    n_jobs=15,\n",
    "    scoring=\"neg_mean_squared_error\"\n",
    ")"
   ]
  },
  {
   "cell_type": "code",
   "execution_count": 34,
   "metadata": {},
   "outputs": [
    {
     "data": {
      "text/plain": [
       "0.06187224956242369"
      ]
     },
     "execution_count": 34,
     "metadata": {},
     "output_type": "execute_result"
    }
   ],
   "source": [
    "forest_importances.stds['Vmax']"
   ]
  },
  {
   "cell_type": "code",
   "execution_count": 44,
   "metadata": {},
   "outputs": [
    {
     "data": {
      "image/png": "[encoded data removed]",
      "text/plain": [
       "<Figure size 500x300 with 1 Axes>"
      ]
     },
     "metadata": {},
     "output_type": "display_data"
    }
   ],
   "source": [
    "forest_importances = pd.DataFrame(\n",
    "    {\n",
    "        \"means\": np.sqrt(result.importances_mean.clip(0)),\n",
    "        \"stds\": np.sqrt(result.importances_std),\n",
    "    }, \n",
    "    index=[\"Mhalo\", \"Vmax\", \"d_minima\", \"d_node\", \"d_saddle_1\", \"d_saddle_2\", \"d_skel\"]\n",
    ").sort_values(\"means\")\n",
    "\n",
    "fig, ax = plt.subplots(figsize=(5, 3))\n",
    "forest_importances.means.plot.barh(xerr=forest_importances.stds, ax=ax, color=c4)\n",
    "ax.set_title(\"Cosmic web parameter feature importances\", fontsize=12)\n",
    "ax.set_xlabel(\"RMSE increase\", fontsize=12)\n",
    "ax.text(0.148, 6, f\"{forest_importances.means['Vmax']:.2f} $\\\\pm$ {forest_importances.stds['Vmax']:.2f} ⟶\", va=\"center\", ha=\"right\")\n",
    "# ax.set_xscale('log')\n",
    "ax.set_xlim(0, 0.15)\n",
    "ax.tick_params(axis=\"both\", length=0)\n",
    "ax.grid(alpha=0.15)\n",
    "plt.tight_layout()\n",
    "plt.savefig(f\"{ROOT}/results/predicting-Mstar/cosmic_web_disperse/feature_importances.pdf\")"
   ]
  },
  {
   "cell_type": "markdown",
   "metadata": {},
   "source": [
    "# Comparison plot"
   ]
  },
  {
   "cell_type": "code",
   "execution_count": 5,
   "metadata": {},
   "outputs": [],
   "source": [
    "def rmse(p, y): return ((p - y) ** 2).mean()**0.5"
   ]
  },
  {
   "cell_type": "code",
   "execution_count": 6,
   "metadata": {},
   "outputs": [],
   "source": [
    "def get_rmse_kfold(k, D):\n",
    "    df_3d = pd.read_csv(f\"{results_dir}/r_link{D}/validation-fold{k}.csv\")\n",
    "    df_2d = pd.read_csv(f\"{results_dir}/r_link{D}/validation-projected-fold{k}.csv\")\n",
    "    df_cw = pd.read_csv(f\"{ROOT}/results/predicting-Mstar/cosmic_web_disperse/validation-fold{k}.csv\")\n",
    "    return (\n",
    "        rmse(df_3d[\"p_GNN_3d\"], df_3d[\"log_Mstar\"]), \n",
    "        rmse(df_2d[\"p_GNN_2d\"], df_2d[\"log_Mstar\"]),\n",
    "        rmse(df_3d[\"p_RF_overdensity\"], df_3d[\"log_Mstar\"]),\n",
    "        rmse(df_cw[\"p_RF_disperse\"], df_cw[\"log_Mstar\"])\n",
    "    )\n"
   ]
  },
  {
   "cell_type": "code",
   "execution_count": 35,
   "metadata": {},
   "outputs": [],
   "source": [
    "loops = 1\n",
    "aggr = \"multi\"\n",
    "results_dir = f\"{ROOT}/results/predicting-Mstar/gnns-upgraded_{aggr}_loops-{loops}\"\n",
    "D_links = [0.3, 0.5, 1, 1.5, 2, 2.5, 3, 3.5, 4, 5, 7.5, 10]     \n",
    "\n",
    "\n"
   ]
  },
  {
   "cell_type": "code",
   "execution_count": 36,
   "metadata": {},
   "outputs": [],
   "source": [
    "plt.figure(figsize=(4.5, 4.), dpi=300)\n",
    "\n",
    "rmse_3d, rmse_2d, rmse_overdensity  = [], [], []\n",
    "\n",
    "for D in D_links:\n",
    "    res_k = np.array(list(get_rmse_kfold(k, D) for k in range(1,7))).T\n",
    "    rmse_3d.append(res_k[0])\n",
    "    rmse_2d.append(res_k[1])\n",
    "    rmse_overdensity.append(res_k[2])\n",
    "\n",
    "rmse_cw = res_k[3]\n",
    "\n",
    "plt.axhline(np.mean(rmse_cw), c=c4, lw=2, ls=\":\", zorder=1)\n",
    "plt.axhspan(np.mean(rmse_cw)-np.std(rmse_cw), np.mean(rmse_cw)+np.std(rmse_cw), color=c4, lw=0, alpha=0.3, zorder=1)\n",
    "\n",
    "plt.plot(D_links, np.mean(rmse_overdensity, 1), c=c3, lw=2, ls=\"--\", zorder=4)\n",
    "plt.fill_between(D_links, np.mean(rmse_overdensity, 1)-np.std(rmse_overdensity, 1), np.mean(rmse_overdensity, 1)+np.std(rmse_overdensity, 1), color=c3, alpha=0.3, lw=0)\n",
    "\n",
    "# plt.plot(D_links, np.mean(rmse_2d, 1), c=c3, lw=2, zorder=2)\n",
    "# plt.fill_between(D_links, np.mean(rmse_2d, 1)-np.std(rmse_2d, 1), np.mean(rmse_2d, 1)+np.std(rmse_2d, 1), color=c3, alpha=0.3, lw=0)\n",
    "\n",
    "plt.plot(D_links, np.mean(rmse_3d, 1), c=c0, lw=2, zorder=3)\n",
    "plt.fill_between(D_links, np.mean(rmse_3d, 1)-np.std(rmse_3d, 1), np.mean(rmse_3d, 1)+np.std(rmse_3d, 1), color=c0, alpha=0.3, lw=0)\n",
    "\n",
    "plt.text(0.3, 0.84, \"RF($M_{\\\\rm halo},V_{\\\\rm max},\\\\mathbf{d}_{\\\\rm DisPerSE}$)\", ha=\"left\", transform=plt.gca().transAxes, fontsize=14, color=c4)\n",
    "plt.text(0.3, 0.92, \"RF($M_{\\\\rm halo},V_{\\\\rm max},\\\\delta_L$)\", ha=\"left\", transform=plt.gca().transAxes, fontsize=14, color=c3)\n",
    "plt.text(0.3, 0.76, \"GNN($M_{\\\\rm halo},V_{\\\\rm max}, \\\\mathbf{x}, \\\\mathbf{v};L$)\", ha=\"left\", transform=plt.gca().transAxes, fontsize=14, color=c0)\n",
    "\n",
    "# plt.legend(loc=\"upper right\", framealpha=0, fontsize=12, markerfirst=False)\n",
    "plt.xscale(\"log\")\n",
    "plt.xticks(ticks=[0.3, 1, 3, 10], labels=[0.3, 1, 3, 10])\n",
    "plt.grid(alpha=0.15)\n",
    "plt.xlabel(\"Linking length, $L$ (Mpc)\", fontsize=12)\n",
    "plt.ylabel(\"RMSE (dex)\", fontsize=12)\n",
    "plt.ylim(0.128, 0.146)\n",
    "plt.xlim(0.3, 10)\n",
    "plt.tight_layout()\n",
    "# plt.savefig(f\"{results_dir}/GNN_cosmic_web.pdf\")"
   ]
  },
  {
   "cell_type": "code",
   "execution_count": 88,
   "metadata": {},
   "outputs": [
    {
     "name": "stdout",
     "output_type": "stream",
     "text": [
      "GNN 3d: 3 0.1302375646812289 0.007566594316381739\n",
      "GNN 2d: 1.5 0.1322263815678453 0.00584753025168453\n",
      "DisPerSe: -- 0.13306728946900218 0.001039368677744676\n",
      "Overdensity: 2.5 0.1345562966286135 0.0032574629536644807\n"
     ]
    }
   ],
   "source": [
    "best_ind_gnn_3d = np.argmin(np.mean(rmse_3d, 1))\n",
    "print(\"GNN 3d:\", D_links[best_ind_gnn_3d], np.array(rmse_3d)[best_ind_gnn_3d].mean(), np.array(rmse_3d)[:best_ind_gnn_3d].std())\n",
    "\n",
    "best_ind_gnn_2d = np.argmin(np.mean(rmse_2d, 1))\n",
    "print(\"GNN 2d:\", D_links[best_ind_gnn_2d], np.array(rmse_2d)[best_ind_gnn_2d].mean(), np.array(rmse_2d)[:best_ind_gnn_2d].std())\n",
    "\n",
    "print(\"DisPerSE:\", \"--\", np.mean(rmse_cw), np.std(rmse_cw))\n",
    "\n",
    "best_ind_overdensity = np.argmin(np.mean(rmse_overdensity, 1))\n",
    "print(\"Overdensity:\", D_links[best_ind_overdensity], np.array(rmse_overdensity)[best_ind_overdensity].mean(), np.array(rmse_overdensity)[:best_ind_overdensity].std())\n"
   ]
  },
  {
   "cell_type": "code",
   "execution_count": 34,
   "metadata": {},
   "outputs": [
    {
     "name": "stdout",
     "output_type": "stream",
     "text": [
      "GNN 3d: 2.5 0.1304516828484947 0.0039102100452312796\n",
      "GNN 2d: 1.5 0.1322263815678453 0.002325739408608174\n",
      "DisPerSE: -- 0.13306728946900218 0.001039368677744676\n",
      "Overdensity: 2.5 0.13460400863148977 0.0032502824472941385\n"
     ]
    }
   ],
   "source": [
    "best_ind_gnn_3d = np.argmin(np.mean(rmse_3d, 1))\n",
    "print(\"GNN 3d:\", D_links[best_ind_gnn_3d], np.array(rmse_3d)[best_ind_gnn_3d].mean(), np.array(rmse_3d)[:best_ind_gnn_3d].std())\n",
    "\n",
    "best_ind_gnn_2d = np.argmin(np.mean(rmse_2d, 1))\n",
    "print(\"GNN 2d:\", D_links[best_ind_gnn_2d], np.array(rmse_2d)[best_ind_gnn_2d].mean(), np.array(rmse_2d)[:best_ind_gnn_2d].std())\n",
    "\n",
    "print(\"DisPerSE:\", \"--\", np.mean(rmse_cw), np.std(rmse_cw))\n",
    "\n",
    "best_ind_overdensity = np.argmin(np.mean(rmse_overdensity, 1))\n",
    "print(\"Overdensity:\", D_links[best_ind_overdensity], np.array(rmse_overdensity)[best_ind_overdensity].mean(), np.array(rmse_overdensity)[:best_ind_overdensity].std())\n"
   ]
  },
  {
   "cell_type": "code",
   "execution_count": null,
   "metadata": {},
   "outputs": [],
   "source": []
  }
 ],
 "metadata": {
  "kernelspec": {
   "display_name": "pyg",
   "language": "python",
   "name": "python3"
  },
  "language_info": {
   "codemirror_mode": {
    "name": "ipython",
    "version": 3
   },
   "file_extension": ".py",
   "mimetype": "text/x-python",
   "name": "python",
   "nbconvert_exporter": "python",
   "pygments_lexer": "ipython3",
   "version": "3.10.8"
  },
  "orig_nbformat": 4
 },
 "nbformat": 4,
 "nbformat_minor": 2
}
